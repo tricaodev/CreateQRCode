{
 "cells": [
  {
   "cell_type": "markdown",
   "metadata": {},
   "source": [
    "## Install package"
   ]
  },
  {
   "cell_type": "code",
   "execution_count": 45,
   "metadata": {},
   "outputs": [
    {
     "name": "stdout",
     "output_type": "stream",
     "text": [
      "Requirement already satisfied: qrcode in c:\\users\\tri cao\\appdata\\local\\programs\\python\\python38\\lib\\site-packages (7.4.2)\n",
      "Requirement already satisfied: typing-extensions in c:\\users\\tri cao\\appdata\\roaming\\python\\python38\\site-packages (from qrcode) (4.12.2)\n",
      "Requirement already satisfied: pypng in c:\\users\\tri cao\\appdata\\local\\programs\\python\\python38\\lib\\site-packages (from qrcode) (0.20220715.0)\n",
      "Requirement already satisfied: colorama in c:\\users\\tri cao\\appdata\\roaming\\python\\python38\\site-packages (from qrcode) (0.4.6)\n",
      "Note: you may need to restart the kernel to use updated packages.\n"
     ]
    },
    {
     "name": "stderr",
     "output_type": "stream",
     "text": [
      "\n",
      "[notice] A new release of pip is available: 24.2 -> 24.3.1\n",
      "[notice] To update, run: python.exe -m pip install --upgrade pip\n"
     ]
    },
    {
     "name": "stdout",
     "output_type": "stream",
     "text": [
      "Requirement already satisfied: pillow in c:\\users\\tri cao\\appdata\\local\\programs\\python\\python38\\lib\\site-packages (10.4.0)\n",
      "Note: you may need to restart the kernel to use updated packages.\n"
     ]
    },
    {
     "name": "stderr",
     "output_type": "stream",
     "text": [
      "\n",
      "[notice] A new release of pip is available: 24.2 -> 24.3.1\n",
      "[notice] To update, run: python.exe -m pip install --upgrade pip\n"
     ]
    }
   ],
   "source": [
    "%pip install qrcode\n",
    "%pip install pillow"
   ]
  },
  {
   "cell_type": "markdown",
   "metadata": {},
   "source": [
    "## Generate plaint QRCode"
   ]
  },
  {
   "cell_type": "code",
   "execution_count": 46,
   "metadata": {},
   "outputs": [],
   "source": [
    "import qrcode\n",
    "\n",
    "qr = qrcode.QRCode(version=1, box_size=10, border=4)\n",
    "qr.add_data(\"https://www.facebook.com/cdtri1619\")\n",
    "qr.make(fit=True)\n",
    "qr_img = qr.make_image(fill_color=\"black\", back_color=\"white\")\n",
    "qr_img.save(\"./qrcode/plaint_qrcode.png\")"
   ]
  },
  {
   "cell_type": "markdown",
   "metadata": {},
   "source": [
    "## Generate QRCode with logo"
   ]
  },
  {
   "cell_type": "code",
   "execution_count": 47,
   "metadata": {},
   "outputs": [],
   "source": [
    "import qrcode\n",
    "from PIL import Image, ImageDraw"
   ]
  },
  {
   "cell_type": "code",
   "execution_count": 48,
   "metadata": {},
   "outputs": [],
   "source": [
    "def create_circular_image(image):\n",
    "    image = image.convert(\"RGBA\")\n",
    "    mask = Image.new(\"L\", image.size, 0)\n",
    "    draw = ImageDraw.Draw(mask)\n",
    "    draw.ellipse((0, 0, image.size[0], image.size[1]), 255)\n",
    "\n",
    "    circular_image = Image.new(\"RGBA\", image.size)\n",
    "    circular_image.paste(image, (0, 0), mask=mask)\n",
    "\n",
    "    return circular_image\n",
    "    "
   ]
  },
  {
   "cell_type": "code",
   "execution_count": 49,
   "metadata": {},
   "outputs": [],
   "source": [
    "qr = qrcode.QRCode(version=1, box_size=10, border=4)\n",
    "qr.add_data(\"https://www.facebook.com/cdtri1619\")\n",
    "qr.make(fit=True)\n",
    "qr_img = qr.make_image(fill_color=(139, 0, 5), back_color=\"white\")\n",
    "logo = Image.open(\"./assets/avatar.jpg\").resize((50, 50), Image.LANCZOS)\n",
    "circular_logo = create_circular_image(logo)\n",
    "offset = ((qr_img.size[0] - 50) // 2, (qr_img.size[1] - 50) // 2)\n",
    "qr_img.paste(circular_logo, offset, mask=circular_logo.split()[3] if circular_logo.mode == \"RGBA\" else None)\n",
    "qr_img.save(\"./qrcode/qrcode_with_logo.png\")"
   ]
  },
  {
   "cell_type": "markdown",
   "metadata": {},
   "source": [
    "## Generate QRCode with background image"
   ]
  },
  {
   "cell_type": "code",
   "execution_count": 50,
   "metadata": {},
   "outputs": [],
   "source": [
    "import qrcode\n",
    "from qrcode.image.styledpil import StyledPilImage\n",
    "from qrcode.image.styles.colormasks import ImageColorMask\n",
    "\n",
    "qr = qrcode.QRCode(version=1, box_size=10, border=4)\n",
    "qr.add_data(\"https://www.facebook.com/cdtri1619\")\n",
    "qr.make(fit=True)\n",
    "\n",
    "qr_img = qr.make_image(image_factory=StyledPilImage, color_mask=ImageColorMask(back_color=(255, 255, 255), color_mask_path=\"./assets/avatar.jpg\"))\n",
    "qr_img.save(\"./qrcode/qrcode_with_background_image.png\")\n"
   ]
  }
 ],
 "metadata": {
  "kernelspec": {
   "display_name": "Python 3",
   "language": "python",
   "name": "python3"
  },
  "language_info": {
   "codemirror_mode": {
    "name": "ipython",
    "version": 3
   },
   "file_extension": ".py",
   "mimetype": "text/x-python",
   "name": "python",
   "nbconvert_exporter": "python",
   "pygments_lexer": "ipython3",
   "version": "3.8.0"
  }
 },
 "nbformat": 4,
 "nbformat_minor": 2
}
